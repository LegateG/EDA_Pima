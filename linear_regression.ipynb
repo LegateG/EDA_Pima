{
 "cells": [
  {
   "cell_type": "code",
   "execution_count": null,
   "metadata": {},
   "outputs": [],
   "source": [
    "## Import the necessary libraries"
   ]
  },
  {
   "cell_type": "code",
   "execution_count": 2,
   "metadata": {
    "ExecuteTime": {
     "end_time": "2018-03-26T14:37:04.956748Z",
     "start_time": "2018-03-26T14:37:04.391421Z"
    }
   },
   "outputs": [],
   "source": [
    "import numpy as np\n",
    "import pandas as pd\n",
    "\n",
    "import seaborn as sns\n",
    "import matplotlib.pyplot as plt\n",
    "%matplotlib inline\n",
    "\n",
    "from sklearn.preprocessing import StandardScaler\n",
    "from sklearn.linear_model import LogisticRegression\n",
    "from sklearn.ensemble import RandomForestClassifier"
   ]
  },
  {
   "cell_type": "markdown",
   "metadata": {},
   "source": [
    "### Read the given dataset"
   ]
  },
  {
   "cell_type": "code",
   "execution_count": 3,
   "metadata": {
    "ExecuteTime": {
     "end_time": "2018-03-26T14:37:06.048159Z",
     "start_time": "2018-03-26T14:37:05.749381Z"
    }
   },
   "outputs": [
    {
     "data": {
      "image/png": "[encoded data removed]",
      "text/plain": [
       "<Figure size 576x432 with 1 Axes>"
      ]
     },
     "metadata": {},
     "output_type": "display_data"
    }
   ],
   "source": [
    "pima = pd.read_csv(\"diabetes.csv\")"
   ]
  },
  {
   "cell_type": "code",
   "execution_count": 4,
   "metadata": {
    "ExecuteTime": {
     "end_time": "2018-03-26T14:37:06.920607Z",
     "start_time": "2018-03-26T14:37:06.906905Z"
    }
   },
   "outputs": [
    {
     "name": "stdout",
     "output_type": "stream",
     "text": [
      "Shape X_train: (375, 1)\n",
      "Shape y_train: (375, 1)\n",
      "Shape X_test: (125, 1)\n",
      "Shape y_test: (125, 1)\n"
     ]
    }
   ],
   "source": [
    "### Show the last 5 records of the dataset\n",
    "pima.tail()"
   ]
  },
  {
   "cell_type": "code",
   "execution_count": null,
   "metadata": {},
   "outputs": [],
   "source": [
    "### Show the first 5 records of the dataset\n",
    "pima.head()"
   ]
  },
  {
   "cell_type": "code",
   "execution_count": null,
   "metadata": {},
   "outputs": [],
   "source": [
    "### Find the dimension of the `pima` dataframe.\n",
    "pima.ndim"
   ]
  },
  {
   "cell_type": "code",
   "execution_count": null,
   "metadata": {},
   "outputs": [],
   "source": [
    "### Find the size of the `pima` dataframe.\n",
    "pima.shape"
   ]
  },
  {
   "cell_type": "code",
   "execution_count": null,
   "metadata": {},
   "outputs": [],
   "source": [
    "### Display the data types of all the variables in the data set.\n",
    "pima.dtypes"
   ]
  },
  {
   "cell_type": "code",
   "execution_count": null,
   "metadata": {},
   "outputs": [],
   "source": [
    "### Are there any missing values in the `pima` dataframe? \n",
    "pima.isnull().values.any()"
   ]
  },
  {
   "cell_type": "code",
   "execution_count": null,
   "metadata": {},
   "outputs": [],
   "source": [
    "### Find the summary statistics for all variables except for  `'Outcome'` variable. \n",
    "pima.iloc[:,:(pima.columns.get_loc('Outcome'))].describe()"
   ]
  },
  {
   "cell_type": "code",
   "execution_count": null,
   "metadata": {},
   "outputs": [],
   "source": [
    "### Plot the distribution plot for the variable `'BloodPressure'`. \n",
    "sns.displot(pima['BloodPressure'], kind='kde')\n",
    "plt.show()"
   ]
  },
  {
   "cell_type": "code",
   "execution_count": null,
   "metadata": {},
   "outputs": [],
   "source": [
    "### What is the `'BMI'` for the person having the highest `'Glucose'`?\n",
    "pima[pima['Glucose']==pima['Glucose'].max()]['BMI']"
   ]
  },
  {
   "cell_type": "code",
   "execution_count": null,
   "metadata": {},
   "outputs": [],
   "source": [
    "#### What is the mean of the variable `'BMI'`? \n",
    "#### What is the median of the variable `'BMI'`? \n",
    "#### What is the mode of the variable `'BMI'`?\n",
    "#### Are the three measures of central tendency equal?\n",
    "m1 = pima['BMI'].mean()  #Mean\n",
    "print(m1)\n",
    "m2 = pima['BMI'].median()  #Median\n",
    "print(m2)\n",
    "m3 = pima['BMI'].mode()[0]  #Mode\n",
    "print(m3)"
   ]
  },
  {
   "cell_type": "code",
   "execution_count": null,
   "metadata": {},
   "outputs": [],
   "source": [
    "### How many women's `'Glucose'` level is above the mean level of `'Glucose'`?\n",
    "pima[pima['Glucose']>pima['Glucose'].mean()].shape[0]"
   ]
  },
  {
   "cell_type": "code",
   "execution_count": null,
   "metadata": {},
   "outputs": [],
   "source": [
    "### Create the pairplot for variables `'Glucose'`, `'SkinThickness'` and `'DiabetesPedigreeFunction'`. \n",
    "sns.pairplot(data=pima, vars=['Glucose', 'SkinThickness', 'DiabetesPedigreeFunction'], hue='Outcome')\n",
    "plt.show()"
   ]
  },
  {
   "cell_type": "code",
   "execution_count": null,
   "metadata": {},
   "outputs": [],
   "source": [
    "### Plot the scatterplot between `'Glucose'` and `'Insulin'`. \n",
    "sns.scatterplot(x='Glucose',y='Insulin',data=pima)\n",
    "plt.show()"
   ]
  },
  {
   "cell_type": "code",
   "execution_count": null,
   "metadata": {},
   "outputs": [],
   "source": [
    "### Plot the boxplot for the 'Age' variable\n",
    "plt.boxplot(pima['Age'])\n",
    "plt.title('Boxplot of Age')\n",
    "plt.ylabel('Age')\n",
    "plt.show()"
   ]
  },
  {
   "cell_type": "code",
   "execution_count": null,
   "metadata": {},
   "outputs": [],
   "source": [
    "### Find and visualize the the correlation matrix\n",
    "corr_matrix = pima.iloc[:,0:8].corr()\n",
    "corr_matrix"
   ]
  },
  {
   "cell_type": "code",
   "execution_count": null,
   "metadata": {},
   "outputs": [],
   "source": [
    "plt.figure(figsize=(8,8))\n",
    "sns.heatmap(corr_matrix, annot = True)"
   ]
  },
  {
   "cell_type": "code",
   "execution_count": null,
   "metadata": {},
   "outputs": [],
   "source": [
    "# display the plot\n",
    "plt.show()"
   ]
  },
  {
   "cell_type": "code",
   "execution_count": null,
   "metadata": {},
   "outputs": [],
   "source": [
    "## Model Training\n",
    "\n",
    "### Split and scale the data\n",
    "\n",
    "# Split the data into dependent and independent variables\n",
    "y = pima.Outcome\n",
    "x = pima.drop('Outcome', axis = 1)"
   ]
  },
  {
   "cell_type": "code",
   "execution_count": null,
   "metadata": {},
   "outputs": [],
   "source": [
    "# Using StandarScaler scale the data\n",
    "from sklearn.preprocessing import StandardScaler\n",
    "scaler = StandardScaler()\n",
    "X = scaler.fit_transform(x)"
   ]
  },
  {
   "cell_type": "code",
   "execution_count": null,
   "metadata": {},
   "outputs": [],
   "source": [
    "# Splitting the data into train and test. Use test size as 15%\n",
    "from sklearn.model_selection import train_test_split\n",
    "x_train, x_test, y_train, y_test = train_test_split(x, y, test_size = 0.15, stratify=y,  random_state = 45)"
   ]
  },
  {
   "cell_type": "code",
   "execution_count": null,
   "metadata": {},
   "outputs": [],
   "source": [
    "### Train a Logistic Regression Model. \n",
    "\n",
    "# import the model\n",
    "from sklearn.linear_model import LogisticRegression\n",
    "\n",
    "# Instantiate the model\n",
    "lr = LogisticRegression(max_iter=1000)\n",
    "\n",
    "# fit the model on the train set\n",
    "m = lr.fit(x_train, y_train)\n",
    "\n",
    "# Predict on x_test\n",
    "y_pred = m.predict(x_test)\n",
    "\n",
    "# Evaluate the model\n",
    "print('Accuracy of Logistic Regression model on the train set: {:.2f}'.format(m.score(x_train, y_train)))\n",
    "print('Accuracy of the Logictic Regression model on the test set: {:.2f}'.format(m.score(x_test, y_test)))\n",
    "\n",
    "from sklearn.metrics import confusion_matrix\n",
    "confusion_matrix(y_test, y_pred)"
   ]
  },
  {
   "cell_type": "code",
   "execution_count": null,
   "metadata": {},
   "outputs": [],
   "source": [
    "### Train a Random Forest Model.\n",
    "\n",
    "# Import the Model\n",
    "from sklearn.ensemble import RandomForestClassifier\n",
    "\n",
    "# Instantiate the model. \n",
    "rf = RandomForestClassifier(n_estimators=301, max_depth=3)\n",
    "\n",
    "# fit the model on the train set\n",
    "m2 = rf.fit(x_train, y_train)\n",
    "\n",
    "# Predict on x_test\n",
    "y_pred2 = m2.predict(x_test)\n",
    "\n",
    "# Evaluate the Model\n",
    "print('Accuracy of Random Forest model on the train set: {:.2f}'.format(m2.score(x_train, y_train)))\n",
    "print('Accuracy of Random Forest model on the test set: {:.2f}'.format(m2.score(x_test, y_test)))\n",
    "confusion_matrix(y_test, y_pred2)"
   ]
  }
 ],
 "metadata": {
  "anaconda-cloud": {},
  "kernelspec": {
   "display_name": "Python 3",
   "language": "python",
   "name": "python3"
  },
  "language_info": {
   "codemirror_mode": {
    "name": "ipython",
    "version": 3
   },
   "file_extension": ".py",
   "mimetype": "text/x-python",
   "name": "python",
   "nbconvert_exporter": "python",
   "pygments_lexer": "ipython3",
   "version": "3.8.3"
  },
  "toc": {
   "nav_menu": {},
   "number_sections": true,
   "sideBar": true,
   "skip_h1_title": false,
   "title_cell": "Table of Contents",
   "title_sidebar": "Contents",
   "toc_cell": false,
   "toc_position": {},
   "toc_section_display": true,
   "toc_window_display": false
  }
 },
 "nbformat": 4,
 "nbformat_minor": 2
}
